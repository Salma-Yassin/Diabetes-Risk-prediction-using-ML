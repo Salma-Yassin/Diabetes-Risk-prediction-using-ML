{
  "cells": [
    {
      "cell_type": "markdown",
      "metadata": {
        "id": "wiJ6snM-ABId"
      },
      "source": [
        "# Diabetes Risk Prediction:\n",
        "we dealt with the original data set ( https://www.kaggle.com/cdc/behavioral-risk-factor-surveillance-system?select=2015.csv ) that was containing 330 features, and we chose 22 risk factors related to diabetes according to notebook (https://www.kaggle.com/alexteboul/diabetes-health-indicators-dataset-notebook)"
      ]
    },
    {
      "cell_type": "code",
      "execution_count": null,
      "metadata": {
        "id": "c-pWTicWfdxp"
      },
      "outputs": [],
      "source": [
        "import pandas as pd \n",
        "import seaborn as sns\n",
        "import numpy as np\n",
        "from collections import Counter\n",
        "from scipy import stats\n",
        "from math import log2, sqrt\n",
        "from sklearn.model_selection import train_test_split\n",
        "from sklearn.tree import DecisionTreeClassifier\n",
        "from scipy import stats\n",
        "from sklearn import metrics\n",
        "from sklearn import tree \n",
        "from sklearn import preprocessing\n",
        "import matplotlib.pyplot as plt\n",
        "import six \n",
        "from sklearn.neighbors import KNeighborsClassifier\n",
        "from sklearn.tree import export_graphviz\n",
        "from six import StringIO  \n",
        "from IPython.display import Image  \n",
        "import pydotplus\n",
        "from tqdm.notebook import tqdm_notebook as tqdm \n",
        "from sklearn.model_selection import GridSearchCV, RandomizedSearchCV\n",
        "from sklearn.model_selection import cross_val_score\n",
        "from sklearn.ensemble import RandomForestClassifier\n",
        "from sklearn.preprocessing import StandardScaler\n",
        "from sklearn.linear_model import LogisticRegression\n",
        "from sklearn.metrics import accuracy_score, confusion_matrix, classification_report\n",
        "from sklearn.metrics import roc_curve\n",
        "from sklearn.metrics import roc_auc_score\n",
        "from imblearn.combine import SMOTEENN"
      ]
    },
    {
      "cell_type": "markdown",
      "metadata": {
        "id": "3_Wcf6M5AKhO"
      },
      "source": [
        "Reading the data set:"
      ]
    },
    {
      "cell_type": "code",
      "execution_count": null,
      "metadata": {
        "colab": {
          "base_uri": "https://localhost:8080/",
          "height": 270
        },
        "id": "nB3nxhxgeV8S",
        "outputId": "d1e25427-e410-44d6-df22-3517cb39acfb"
      },
      "outputs": [
        {
          "output_type": "execute_result",
          "data": {
            "text/html": [
              "\n",
              "  <div id=\"df-41f00408-c1d3-403c-8d83-422633c5fed3\">\n",
              "    <div class=\"colab-df-container\">\n",
              "      <div>\n",
              "<style scoped>\n",
              "    .dataframe tbody tr th:only-of-type {\n",
              "        vertical-align: middle;\n",
              "    }\n",
              "\n",
              "    .dataframe tbody tr th {\n",
              "        vertical-align: top;\n",
              "    }\n",
              "\n",
              "    .dataframe thead th {\n",
              "        text-align: right;\n",
              "    }\n",
              "</style>\n",
              "<table border=\"1\" class=\"dataframe\">\n",
              "  <thead>\n",
              "    <tr style=\"text-align: right;\">\n",
              "      <th></th>\n",
              "      <th>GenHlth</th>\n",
              "      <th>PhysHlth</th>\n",
              "      <th>MentHlth</th>\n",
              "      <th>AnyHealthcare</th>\n",
              "      <th>NoDocbcCost</th>\n",
              "      <th>HighChol</th>\n",
              "      <th>Stroke</th>\n",
              "      <th>Diabetes</th>\n",
              "      <th>Sex</th>\n",
              "      <th>Education</th>\n",
              "      <th>Income</th>\n",
              "      <th>DiffWalk</th>\n",
              "      <th>Smoker</th>\n",
              "      <th>HighBP</th>\n",
              "      <th>CholCheck</th>\n",
              "      <th>HeartDiseaseorAttack</th>\n",
              "      <th>Age</th>\n",
              "      <th>BMI</th>\n",
              "      <th>HvyAlcoholConsump</th>\n",
              "      <th>Fruits</th>\n",
              "      <th>Veggies</th>\n",
              "      <th>PhysActivity</th>\n",
              "    </tr>\n",
              "  </thead>\n",
              "  <tbody>\n",
              "    <tr>\n",
              "      <th>0</th>\n",
              "      <td>5.0</td>\n",
              "      <td>15.0</td>\n",
              "      <td>18.0</td>\n",
              "      <td>1.0</td>\n",
              "      <td>0.0</td>\n",
              "      <td>1.0</td>\n",
              "      <td>0.0</td>\n",
              "      <td>0.0</td>\n",
              "      <td>0.0</td>\n",
              "      <td>4.0</td>\n",
              "      <td>3.0</td>\n",
              "      <td>1.0</td>\n",
              "      <td>1.0</td>\n",
              "      <td>1.0</td>\n",
              "      <td>1.0</td>\n",
              "      <td>0.0</td>\n",
              "      <td>9.0</td>\n",
              "      <td>40.0</td>\n",
              "      <td>0.0</td>\n",
              "      <td>0.0</td>\n",
              "      <td>1.0</td>\n",
              "      <td>0.0</td>\n",
              "    </tr>\n",
              "    <tr>\n",
              "      <th>1</th>\n",
              "      <td>3.0</td>\n",
              "      <td>0.0</td>\n",
              "      <td>0.0</td>\n",
              "      <td>0.0</td>\n",
              "      <td>1.0</td>\n",
              "      <td>0.0</td>\n",
              "      <td>0.0</td>\n",
              "      <td>0.0</td>\n",
              "      <td>0.0</td>\n",
              "      <td>6.0</td>\n",
              "      <td>1.0</td>\n",
              "      <td>0.0</td>\n",
              "      <td>1.0</td>\n",
              "      <td>0.0</td>\n",
              "      <td>0.0</td>\n",
              "      <td>0.0</td>\n",
              "      <td>7.0</td>\n",
              "      <td>25.0</td>\n",
              "      <td>0.0</td>\n",
              "      <td>0.0</td>\n",
              "      <td>0.0</td>\n",
              "      <td>1.0</td>\n",
              "    </tr>\n",
              "    <tr>\n",
              "      <th>2</th>\n",
              "      <td>5.0</td>\n",
              "      <td>30.0</td>\n",
              "      <td>30.0</td>\n",
              "      <td>1.0</td>\n",
              "      <td>1.0</td>\n",
              "      <td>1.0</td>\n",
              "      <td>0.0</td>\n",
              "      <td>0.0</td>\n",
              "      <td>0.0</td>\n",
              "      <td>4.0</td>\n",
              "      <td>8.0</td>\n",
              "      <td>1.0</td>\n",
              "      <td>0.0</td>\n",
              "      <td>1.0</td>\n",
              "      <td>1.0</td>\n",
              "      <td>0.0</td>\n",
              "      <td>9.0</td>\n",
              "      <td>28.0</td>\n",
              "      <td>0.0</td>\n",
              "      <td>1.0</td>\n",
              "      <td>0.0</td>\n",
              "      <td>0.0</td>\n",
              "    </tr>\n",
              "    <tr>\n",
              "      <th>3</th>\n",
              "      <td>2.0</td>\n",
              "      <td>0.0</td>\n",
              "      <td>0.0</td>\n",
              "      <td>1.0</td>\n",
              "      <td>0.0</td>\n",
              "      <td>0.0</td>\n",
              "      <td>0.0</td>\n",
              "      <td>0.0</td>\n",
              "      <td>0.0</td>\n",
              "      <td>3.0</td>\n",
              "      <td>6.0</td>\n",
              "      <td>0.0</td>\n",
              "      <td>0.0</td>\n",
              "      <td>1.0</td>\n",
              "      <td>1.0</td>\n",
              "      <td>0.0</td>\n",
              "      <td>11.0</td>\n",
              "      <td>27.0</td>\n",
              "      <td>0.0</td>\n",
              "      <td>1.0</td>\n",
              "      <td>1.0</td>\n",
              "      <td>1.0</td>\n",
              "    </tr>\n",
              "    <tr>\n",
              "      <th>4</th>\n",
              "      <td>2.0</td>\n",
              "      <td>0.0</td>\n",
              "      <td>3.0</td>\n",
              "      <td>1.0</td>\n",
              "      <td>0.0</td>\n",
              "      <td>1.0</td>\n",
              "      <td>0.0</td>\n",
              "      <td>0.0</td>\n",
              "      <td>0.0</td>\n",
              "      <td>5.0</td>\n",
              "      <td>4.0</td>\n",
              "      <td>0.0</td>\n",
              "      <td>0.0</td>\n",
              "      <td>1.0</td>\n",
              "      <td>1.0</td>\n",
              "      <td>0.0</td>\n",
              "      <td>11.0</td>\n",
              "      <td>24.0</td>\n",
              "      <td>0.0</td>\n",
              "      <td>1.0</td>\n",
              "      <td>1.0</td>\n",
              "      <td>1.0</td>\n",
              "    </tr>\n",
              "  </tbody>\n",
              "</table>\n",
              "</div>\n",
              "      <button class=\"colab-df-convert\" onclick=\"convertToInteractive('df-41f00408-c1d3-403c-8d83-422633c5fed3')\"\n",
              "              title=\"Convert this dataframe to an interactive table.\"\n",
              "              style=\"display:none;\">\n",
              "        \n",
              "  <svg xmlns=\"http://www.w3.org/2000/svg\" height=\"24px\"viewBox=\"0 0 24 24\"\n",
              "       width=\"24px\">\n",
              "    <path d=\"M0 0h24v24H0V0z\" fill=\"none\"/>\n",
              "    <path d=\"M18.56 5.44l.94 2.06.94-2.06 2.06-.94-2.06-.94-.94-2.06-.94 2.06-2.06.94zm-11 1L8.5 8.5l.94-2.06 2.06-.94-2.06-.94L8.5 2.5l-.94 2.06-2.06.94zm10 10l.94 2.06.94-2.06 2.06-.94-2.06-.94-.94-2.06-.94 2.06-2.06.94z\"/><path d=\"M17.41 7.96l-1.37-1.37c-.4-.4-.92-.59-1.43-.59-.52 0-1.04.2-1.43.59L10.3 9.45l-7.72 7.72c-.78.78-.78 2.05 0 2.83L4 21.41c.39.39.9.59 1.41.59.51 0 1.02-.2 1.41-.59l7.78-7.78 2.81-2.81c.8-.78.8-2.07 0-2.86zM5.41 20L4 18.59l7.72-7.72 1.47 1.35L5.41 20z\"/>\n",
              "  </svg>\n",
              "      </button>\n",
              "      \n",
              "  <style>\n",
              "    .colab-df-container {\n",
              "      display:flex;\n",
              "      flex-wrap:wrap;\n",
              "      gap: 12px;\n",
              "    }\n",
              "\n",
              "    .colab-df-convert {\n",
              "      background-color: #E8F0FE;\n",
              "      border: none;\n",
              "      border-radius: 50%;\n",
              "      cursor: pointer;\n",
              "      display: none;\n",
              "      fill: #1967D2;\n",
              "      height: 32px;\n",
              "      padding: 0 0 0 0;\n",
              "      width: 32px;\n",
              "    }\n",
              "\n",
              "    .colab-df-convert:hover {\n",
              "      background-color: #E2EBFA;\n",
              "      box-shadow: 0px 1px 2px rgba(60, 64, 67, 0.3), 0px 1px 3px 1px rgba(60, 64, 67, 0.15);\n",
              "      fill: #174EA6;\n",
              "    }\n",
              "\n",
              "    [theme=dark] .colab-df-convert {\n",
              "      background-color: #3B4455;\n",
              "      fill: #D2E3FC;\n",
              "    }\n",
              "\n",
              "    [theme=dark] .colab-df-convert:hover {\n",
              "      background-color: #434B5C;\n",
              "      box-shadow: 0px 1px 3px 1px rgba(0, 0, 0, 0.15);\n",
              "      filter: drop-shadow(0px 1px 2px rgba(0, 0, 0, 0.3));\n",
              "      fill: #FFFFFF;\n",
              "    }\n",
              "  </style>\n",
              "\n",
              "      <script>\n",
              "        const buttonEl =\n",
              "          document.querySelector('#df-41f00408-c1d3-403c-8d83-422633c5fed3 button.colab-df-convert');\n",
              "        buttonEl.style.display =\n",
              "          google.colab.kernel.accessAllowed ? 'block' : 'none';\n",
              "\n",
              "        async function convertToInteractive(key) {\n",
              "          const element = document.querySelector('#df-41f00408-c1d3-403c-8d83-422633c5fed3');\n",
              "          const dataTable =\n",
              "            await google.colab.kernel.invokeFunction('convertToInteractive',\n",
              "                                                     [key], {});\n",
              "          if (!dataTable) return;\n",
              "\n",
              "          const docLinkHtml = 'Like what you see? Visit the ' +\n",
              "            '<a target=\"_blank\" href=https://colab.research.google.com/notebooks/data_table.ipynb>data table notebook</a>'\n",
              "            + ' to learn more about interactive tables.';\n",
              "          element.innerHTML = '';\n",
              "          dataTable['output_type'] = 'display_data';\n",
              "          await google.colab.output.renderOutput(dataTable, element);\n",
              "          const docLink = document.createElement('div');\n",
              "          docLink.innerHTML = docLinkHtml;\n",
              "          element.appendChild(docLink);\n",
              "        }\n",
              "      </script>\n",
              "    </div>\n",
              "  </div>\n",
              "  "
            ],
            "text/plain": [
              "   GenHlth  PhysHlth  MentHlth  ...  Fruits  Veggies  PhysActivity\n",
              "0      5.0      15.0      18.0  ...     0.0      1.0           0.0\n",
              "1      3.0       0.0       0.0  ...     0.0      0.0           1.0\n",
              "2      5.0      30.0      30.0  ...     1.0      0.0           0.0\n",
              "3      2.0       0.0       0.0  ...     1.0      1.0           1.0\n",
              "4      2.0       0.0       3.0  ...     1.0      1.0           1.0\n",
              "\n",
              "[5 rows x 22 columns]"
            ]
          },
          "metadata": {},
          "execution_count": 2
        }
      ],
      "source": [
        "# db = pd.read_csv(\"/content/diabetes_012_health_indicators_BRFSS2015.csv\")\n",
        "db =pd.read_csv(\"/content/diabetes_ours.csv\")\n",
        "db.head()\n"
      ]
    },
    {
      "cell_type": "markdown",
      "source": [
        "## Exploring data\n",
        "\n",
        "Get a general overview "
      ],
      "metadata": {
        "id": "ZhO-eANunw_o"
      }
    },
    {
      "cell_type": "code",
      "execution_count": null,
      "metadata": {
        "colab": {
          "base_uri": "https://localhost:8080/"
        },
        "id": "7vD5L42Ug3zb",
        "outputId": "1ddc2802-0f21-4a69-b894-9d18dee4a228"
      },
      "outputs": [
        {
          "output_type": "stream",
          "name": "stdout",
          "text": [
            "<class 'pandas.core.frame.DataFrame'>\n",
            "RangeIndex: 229781 entries, 0 to 229780\n",
            "Data columns (total 22 columns):\n",
            " #   Column                Non-Null Count   Dtype  \n",
            "---  ------                --------------   -----  \n",
            " 0   GenHlth               229781 non-null  float64\n",
            " 1   PhysHlth              229781 non-null  float64\n",
            " 2   MentHlth              229781 non-null  float64\n",
            " 3   AnyHealthcare         229781 non-null  float64\n",
            " 4   NoDocbcCost           229781 non-null  float64\n",
            " 5   HighChol              229781 non-null  float64\n",
            " 6   Stroke                229781 non-null  float64\n",
            " 7   Diabetes              229781 non-null  float64\n",
            " 8   Sex                   229781 non-null  float64\n",
            " 9   Education             229781 non-null  float64\n",
            " 10  Income                229781 non-null  float64\n",
            " 11  DiffWalk              229781 non-null  float64\n",
            " 12  Smoker                229781 non-null  float64\n",
            " 13  HighBP                229781 non-null  float64\n",
            " 14  CholCheck             229781 non-null  float64\n",
            " 15  HeartDiseaseorAttack  229781 non-null  float64\n",
            " 16  Age                   229781 non-null  float64\n",
            " 17  BMI                   229781 non-null  float64\n",
            " 18  HvyAlcoholConsump     229781 non-null  float64\n",
            " 19  Fruits                229781 non-null  float64\n",
            " 20  Veggies               229781 non-null  float64\n",
            " 21  PhysActivity          229781 non-null  float64\n",
            "dtypes: float64(22)\n",
            "memory usage: 38.6 MB\n"
          ]
        }
      ],
      "source": [
        "db.info()"
      ]
    },
    {
      "cell_type": "code",
      "execution_count": null,
      "metadata": {
        "colab": {
          "base_uri": "https://localhost:8080/",
          "height": 364
        },
        "id": "5EsrKIC_hDQ9",
        "outputId": "3371c011-9794-4a0f-e4d3-23aa643852ba"
      },
      "outputs": [
        {
          "output_type": "execute_result",
          "data": {
            "text/html": [
              "\n",
              "  <div id=\"df-7729dd48-c290-4834-9bc7-ff2be36eb35a\">\n",
              "    <div class=\"colab-df-container\">\n",
              "      <div>\n",
              "<style scoped>\n",
              "    .dataframe tbody tr th:only-of-type {\n",
              "        vertical-align: middle;\n",
              "    }\n",
              "\n",
              "    .dataframe tbody tr th {\n",
              "        vertical-align: top;\n",
              "    }\n",
              "\n",
              "    .dataframe thead th {\n",
              "        text-align: right;\n",
              "    }\n",
              "</style>\n",
              "<table border=\"1\" class=\"dataframe\">\n",
              "  <thead>\n",
              "    <tr style=\"text-align: right;\">\n",
              "      <th></th>\n",
              "      <th>GenHlth</th>\n",
              "      <th>PhysHlth</th>\n",
              "      <th>MentHlth</th>\n",
              "      <th>AnyHealthcare</th>\n",
              "      <th>NoDocbcCost</th>\n",
              "      <th>HighChol</th>\n",
              "      <th>Stroke</th>\n",
              "      <th>Diabetes</th>\n",
              "      <th>Sex</th>\n",
              "      <th>Education</th>\n",
              "      <th>Income</th>\n",
              "      <th>DiffWalk</th>\n",
              "      <th>Smoker</th>\n",
              "      <th>HighBP</th>\n",
              "      <th>CholCheck</th>\n",
              "      <th>HeartDiseaseorAttack</th>\n",
              "      <th>Age</th>\n",
              "      <th>BMI</th>\n",
              "      <th>HvyAlcoholConsump</th>\n",
              "      <th>Fruits</th>\n",
              "      <th>Veggies</th>\n",
              "      <th>PhysActivity</th>\n",
              "    </tr>\n",
              "  </thead>\n",
              "  <tbody>\n",
              "    <tr>\n",
              "      <th>count</th>\n",
              "      <td>229781.000000</td>\n",
              "      <td>229781.000000</td>\n",
              "      <td>229781.000000</td>\n",
              "      <td>229781.000000</td>\n",
              "      <td>229781.000000</td>\n",
              "      <td>229781.000000</td>\n",
              "      <td>229781.000000</td>\n",
              "      <td>229781.000000</td>\n",
              "      <td>229781.000000</td>\n",
              "      <td>229781.000000</td>\n",
              "      <td>229781.000000</td>\n",
              "      <td>229781.000000</td>\n",
              "      <td>229781.000000</td>\n",
              "      <td>229781.000000</td>\n",
              "      <td>229781.000000</td>\n",
              "      <td>229781.000000</td>\n",
              "      <td>229781.000000</td>\n",
              "      <td>229781.00000</td>\n",
              "      <td>229781.000000</td>\n",
              "      <td>229781.000000</td>\n",
              "      <td>229781.000000</td>\n",
              "      <td>229781.000000</td>\n",
              "    </tr>\n",
              "    <tr>\n",
              "      <th>mean</th>\n",
              "      <td>2.601151</td>\n",
              "      <td>4.675178</td>\n",
              "      <td>3.505373</td>\n",
              "      <td>0.946075</td>\n",
              "      <td>0.092810</td>\n",
              "      <td>0.441760</td>\n",
              "      <td>0.044756</td>\n",
              "      <td>0.172886</td>\n",
              "      <td>0.439231</td>\n",
              "      <td>4.980568</td>\n",
              "      <td>5.890383</td>\n",
              "      <td>0.185507</td>\n",
              "      <td>0.465661</td>\n",
              "      <td>0.454441</td>\n",
              "      <td>0.959535</td>\n",
              "      <td>0.103216</td>\n",
              "      <td>8.086582</td>\n",
              "      <td>28.68567</td>\n",
              "      <td>0.060710</td>\n",
              "      <td>0.612966</td>\n",
              "      <td>0.794813</td>\n",
              "      <td>0.733355</td>\n",
              "    </tr>\n",
              "    <tr>\n",
              "      <th>std</th>\n",
              "      <td>1.064685</td>\n",
              "      <td>9.046568</td>\n",
              "      <td>7.713725</td>\n",
              "      <td>0.225871</td>\n",
              "      <td>0.290167</td>\n",
              "      <td>0.496598</td>\n",
              "      <td>0.206767</td>\n",
              "      <td>0.378150</td>\n",
              "      <td>0.496295</td>\n",
              "      <td>0.992895</td>\n",
              "      <td>2.092477</td>\n",
              "      <td>0.388709</td>\n",
              "      <td>0.498821</td>\n",
              "      <td>0.497921</td>\n",
              "      <td>0.197047</td>\n",
              "      <td>0.304241</td>\n",
              "      <td>3.093809</td>\n",
              "      <td>6.78636</td>\n",
              "      <td>0.238798</td>\n",
              "      <td>0.487073</td>\n",
              "      <td>0.403839</td>\n",
              "      <td>0.442206</td>\n",
              "    </tr>\n",
              "    <tr>\n",
              "      <th>min</th>\n",
              "      <td>1.000000</td>\n",
              "      <td>0.000000</td>\n",
              "      <td>0.000000</td>\n",
              "      <td>0.000000</td>\n",
              "      <td>0.000000</td>\n",
              "      <td>0.000000</td>\n",
              "      <td>0.000000</td>\n",
              "      <td>0.000000</td>\n",
              "      <td>0.000000</td>\n",
              "      <td>1.000000</td>\n",
              "      <td>1.000000</td>\n",
              "      <td>0.000000</td>\n",
              "      <td>0.000000</td>\n",
              "      <td>0.000000</td>\n",
              "      <td>0.000000</td>\n",
              "      <td>0.000000</td>\n",
              "      <td>1.000000</td>\n",
              "      <td>12.00000</td>\n",
              "      <td>0.000000</td>\n",
              "      <td>0.000000</td>\n",
              "      <td>0.000000</td>\n",
              "      <td>0.000000</td>\n",
              "    </tr>\n",
              "    <tr>\n",
              "      <th>25%</th>\n",
              "      <td>2.000000</td>\n",
              "      <td>0.000000</td>\n",
              "      <td>0.000000</td>\n",
              "      <td>1.000000</td>\n",
              "      <td>0.000000</td>\n",
              "      <td>0.000000</td>\n",
              "      <td>0.000000</td>\n",
              "      <td>0.000000</td>\n",
              "      <td>0.000000</td>\n",
              "      <td>4.000000</td>\n",
              "      <td>5.000000</td>\n",
              "      <td>0.000000</td>\n",
              "      <td>0.000000</td>\n",
              "      <td>0.000000</td>\n",
              "      <td>1.000000</td>\n",
              "      <td>0.000000</td>\n",
              "      <td>6.000000</td>\n",
              "      <td>24.00000</td>\n",
              "      <td>0.000000</td>\n",
              "      <td>0.000000</td>\n",
              "      <td>1.000000</td>\n",
              "      <td>0.000000</td>\n",
              "    </tr>\n",
              "    <tr>\n",
              "      <th>50%</th>\n",
              "      <td>3.000000</td>\n",
              "      <td>0.000000</td>\n",
              "      <td>0.000000</td>\n",
              "      <td>1.000000</td>\n",
              "      <td>0.000000</td>\n",
              "      <td>0.000000</td>\n",
              "      <td>0.000000</td>\n",
              "      <td>0.000000</td>\n",
              "      <td>0.000000</td>\n",
              "      <td>5.000000</td>\n",
              "      <td>6.000000</td>\n",
              "      <td>0.000000</td>\n",
              "      <td>0.000000</td>\n",
              "      <td>0.000000</td>\n",
              "      <td>1.000000</td>\n",
              "      <td>0.000000</td>\n",
              "      <td>8.000000</td>\n",
              "      <td>27.00000</td>\n",
              "      <td>0.000000</td>\n",
              "      <td>1.000000</td>\n",
              "      <td>1.000000</td>\n",
              "      <td>1.000000</td>\n",
              "    </tr>\n",
              "    <tr>\n",
              "      <th>75%</th>\n",
              "      <td>3.000000</td>\n",
              "      <td>4.000000</td>\n",
              "      <td>2.000000</td>\n",
              "      <td>1.000000</td>\n",
              "      <td>0.000000</td>\n",
              "      <td>1.000000</td>\n",
              "      <td>0.000000</td>\n",
              "      <td>0.000000</td>\n",
              "      <td>1.000000</td>\n",
              "      <td>6.000000</td>\n",
              "      <td>8.000000</td>\n",
              "      <td>0.000000</td>\n",
              "      <td>1.000000</td>\n",
              "      <td>1.000000</td>\n",
              "      <td>1.000000</td>\n",
              "      <td>0.000000</td>\n",
              "      <td>10.000000</td>\n",
              "      <td>32.00000</td>\n",
              "      <td>0.000000</td>\n",
              "      <td>1.000000</td>\n",
              "      <td>1.000000</td>\n",
              "      <td>1.000000</td>\n",
              "    </tr>\n",
              "    <tr>\n",
              "      <th>max</th>\n",
              "      <td>5.000000</td>\n",
              "      <td>30.000000</td>\n",
              "      <td>30.000000</td>\n",
              "      <td>1.000000</td>\n",
              "      <td>1.000000</td>\n",
              "      <td>1.000000</td>\n",
              "      <td>1.000000</td>\n",
              "      <td>1.000000</td>\n",
              "      <td>1.000000</td>\n",
              "      <td>6.000000</td>\n",
              "      <td>8.000000</td>\n",
              "      <td>1.000000</td>\n",
              "      <td>1.000000</td>\n",
              "      <td>1.000000</td>\n",
              "      <td>1.000000</td>\n",
              "      <td>1.000000</td>\n",
              "      <td>13.000000</td>\n",
              "      <td>98.00000</td>\n",
              "      <td>1.000000</td>\n",
              "      <td>1.000000</td>\n",
              "      <td>1.000000</td>\n",
              "      <td>1.000000</td>\n",
              "    </tr>\n",
              "  </tbody>\n",
              "</table>\n",
              "</div>\n",
              "      <button class=\"colab-df-convert\" onclick=\"convertToInteractive('df-7729dd48-c290-4834-9bc7-ff2be36eb35a')\"\n",
              "              title=\"Convert this dataframe to an interactive table.\"\n",
              "              style=\"display:none;\">\n",
              "        \n",
              "  <svg xmlns=\"http://www.w3.org/2000/svg\" height=\"24px\"viewBox=\"0 0 24 24\"\n",
              "       width=\"24px\">\n",
              "    <path d=\"M0 0h24v24H0V0z\" fill=\"none\"/>\n",
              "    <path d=\"M18.56 5.44l.94 2.06.94-2.06 2.06-.94-2.06-.94-.94-2.06-.94 2.06-2.06.94zm-11 1L8.5 8.5l.94-2.06 2.06-.94-2.06-.94L8.5 2.5l-.94 2.06-2.06.94zm10 10l.94 2.06.94-2.06 2.06-.94-2.06-.94-.94-2.06-.94 2.06-2.06.94z\"/><path d=\"M17.41 7.96l-1.37-1.37c-.4-.4-.92-.59-1.43-.59-.52 0-1.04.2-1.43.59L10.3 9.45l-7.72 7.72c-.78.78-.78 2.05 0 2.83L4 21.41c.39.39.9.59 1.41.59.51 0 1.02-.2 1.41-.59l7.78-7.78 2.81-2.81c.8-.78.8-2.07 0-2.86zM5.41 20L4 18.59l7.72-7.72 1.47 1.35L5.41 20z\"/>\n",
              "  </svg>\n",
              "      </button>\n",
              "      \n",
              "  <style>\n",
              "    .colab-df-container {\n",
              "      display:flex;\n",
              "      flex-wrap:wrap;\n",
              "      gap: 12px;\n",
              "    }\n",
              "\n",
              "    .colab-df-convert {\n",
              "      background-color: #E8F0FE;\n",
              "      border: none;\n",
              "      border-radius: 50%;\n",
              "      cursor: pointer;\n",
              "      display: none;\n",
              "      fill: #1967D2;\n",
              "      height: 32px;\n",
              "      padding: 0 0 0 0;\n",
              "      width: 32px;\n",
              "    }\n",
              "\n",
              "    .colab-df-convert:hover {\n",
              "      background-color: #E2EBFA;\n",
              "      box-shadow: 0px 1px 2px rgba(60, 64, 67, 0.3), 0px 1px 3px 1px rgba(60, 64, 67, 0.15);\n",
              "      fill: #174EA6;\n",
              "    }\n",
              "\n",
              "    [theme=dark] .colab-df-convert {\n",
              "      background-color: #3B4455;\n",
              "      fill: #D2E3FC;\n",
              "    }\n",
              "\n",
              "    [theme=dark] .colab-df-convert:hover {\n",
              "      background-color: #434B5C;\n",
              "      box-shadow: 0px 1px 3px 1px rgba(0, 0, 0, 0.15);\n",
              "      filter: drop-shadow(0px 1px 2px rgba(0, 0, 0, 0.3));\n",
              "      fill: #FFFFFF;\n",
              "    }\n",
              "  </style>\n",
              "\n",
              "      <script>\n",
              "        const buttonEl =\n",
              "          document.querySelector('#df-7729dd48-c290-4834-9bc7-ff2be36eb35a button.colab-df-convert');\n",
              "        buttonEl.style.display =\n",
              "          google.colab.kernel.accessAllowed ? 'block' : 'none';\n",
              "\n",
              "        async function convertToInteractive(key) {\n",
              "          const element = document.querySelector('#df-7729dd48-c290-4834-9bc7-ff2be36eb35a');\n",
              "          const dataTable =\n",
              "            await google.colab.kernel.invokeFunction('convertToInteractive',\n",
              "                                                     [key], {});\n",
              "          if (!dataTable) return;\n",
              "\n",
              "          const docLinkHtml = 'Like what you see? Visit the ' +\n",
              "            '<a target=\"_blank\" href=https://colab.research.google.com/notebooks/data_table.ipynb>data table notebook</a>'\n",
              "            + ' to learn more about interactive tables.';\n",
              "          element.innerHTML = '';\n",
              "          dataTable['output_type'] = 'display_data';\n",
              "          await google.colab.output.renderOutput(dataTable, element);\n",
              "          const docLink = document.createElement('div');\n",
              "          docLink.innerHTML = docLinkHtml;\n",
              "          element.appendChild(docLink);\n",
              "        }\n",
              "      </script>\n",
              "    </div>\n",
              "  </div>\n",
              "  "
            ],
            "text/plain": [
              "             GenHlth       PhysHlth  ...        Veggies   PhysActivity\n",
              "count  229781.000000  229781.000000  ...  229781.000000  229781.000000\n",
              "mean        2.601151       4.675178  ...       0.794813       0.733355\n",
              "std         1.064685       9.046568  ...       0.403839       0.442206\n",
              "min         1.000000       0.000000  ...       0.000000       0.000000\n",
              "25%         2.000000       0.000000  ...       1.000000       0.000000\n",
              "50%         3.000000       0.000000  ...       1.000000       1.000000\n",
              "75%         3.000000       4.000000  ...       1.000000       1.000000\n",
              "max         5.000000      30.000000  ...       1.000000       1.000000\n",
              "\n",
              "[8 rows x 22 columns]"
            ]
          },
          "metadata": {},
          "execution_count": 4
        }
      ],
      "source": [
        "db.describe()"
      ]
    },
    {
      "cell_type": "code",
      "execution_count": null,
      "metadata": {
        "colab": {
          "base_uri": "https://localhost:8080/"
        },
        "id": "cXS0xUSOhxKC",
        "outputId": "dc634e52-106d-4bbe-b99b-6164ef365e06"
      },
      "outputs": [
        {
          "output_type": "execute_result",
          "data": {
            "text/plain": [
              "0.0    190055\n",
              "1.0     39726\n",
              "Name: Diabetes, dtype: int64"
            ]
          },
          "metadata": {},
          "execution_count": 5
        }
      ],
      "source": [
        "## Is the dataset balanced?\n",
        "db['Diabetes'].value_counts()"
      ]
    },
    {
      "cell_type": "code",
      "execution_count": null,
      "metadata": {
        "colab": {
          "base_uri": "https://localhost:8080/",
          "height": 296
        },
        "id": "MaaVPEFgkjBJ",
        "outputId": "907071f9-1f9b-4851-aeea-e5a4158ee5c0"
      },
      "outputs": [
        {
          "output_type": "execute_result",
          "data": {
            "text/plain": [
              "<matplotlib.axes._subplots.AxesSubplot at 0x7fea1d2e8490>"
            ]
          },
          "metadata": {},
          "execution_count": 6
        },
        {
          "output_type": "display_data",
          "data": {
            "image/png": "[encoded data removed]",
            "text/plain": [
              "<Figure size 432x288 with 1 Axes>"
            ]
          },
          "metadata": {
            "needs_background": "light"
          }
        }
      ],
      "source": [
        "sns.countplot(x='Diabetes',data = db)"
      ]
    },
    {
      "cell_type": "markdown",
      "metadata": {
        "id": "1NuAiplCAdgK"
      },
      "source": [
        "As it appears, the data set is highly imbalanced toward the non-diabetic class, we will use the SMOTEENN to fix this.\n"
      ]
    },
    {
      "cell_type": "code",
      "execution_count": null,
      "metadata": {
        "colab": {
          "base_uri": "https://localhost:8080/"
        },
        "id": "Q2oHvvoil46-",
        "outputId": "7332a88c-7ec0-4d66-8326-0d193dd2ed38"
      },
      "outputs": [
        {
          "output_type": "execute_result",
          "data": {
            "text/plain": [
              "GenHlth                 0.282328\n",
              "PhysHlth                0.158697\n",
              "MentHlth                0.058826\n",
              "AnyHealthcare           0.023756\n",
              "NoDocbcCost             0.025940\n",
              "HighChol                0.204418\n",
              "Stroke                  0.097685\n",
              "Diabetes                1.000000\n",
              "Sex                     0.030797\n",
              "Education              -0.108504\n",
              "Income                 -0.147809\n",
              "DiffWalk                0.208126\n",
              "Smoker                  0.046262\n",
              "HighBP                  0.260346\n",
              "CholCheck               0.076190\n",
              "HeartDiseaseorAttack    0.167184\n",
              "Age                     0.185479\n",
              "BMI                     0.211155\n",
              "HvyAlcoholConsump      -0.066111\n",
              "Fruits                 -0.024968\n",
              "Veggies                -0.043339\n",
              "PhysActivity           -0.102391\n",
              "Name: Diabetes, dtype: float64"
            ]
          },
          "metadata": {},
          "execution_count": 8
        }
      ],
      "source": [
        "correlation = db.corr()\n",
        "correlation['Diabetes']"
      ]
    },
    {
      "cell_type": "markdown",
      "metadata": {
        "id": "4jEAauiConL9"
      },
      "source": [
        "# Determining the Important features:\n",
        "We will first run the models with all the 22 features and then later in this notebook we will choose the most important features according to the correlation coeffiecients presented above."
      ]
    },
    {
      "cell_type": "code",
      "execution_count": null,
      "metadata": {
        "id": "MmKL-H9NEnse"
      },
      "outputs": [],
      "source": [
        "columns = ['HighBP' ,'HighChol' ,'CholCheck' ,'BMI','Smoker','Stroke' ,'HeartDiseaseorAttack','PhysActivity','Fruits' ,'Veggies','HvyAlcoholConsump','AnyHealthcare',\n",
        "'NoDocbcCost','GenHlth','MentHlth','PhysHlth','DiffWalk','Sex','Age','Education','Income']\n",
        "\n",
        "X = db[columns] \n",
        "y = db['Diabetes']"
      ]
    },
    {
      "cell_type": "code",
      "execution_count": null,
      "metadata": {
        "colab": {
          "base_uri": "https://localhost:8080/"
        },
        "id": "vwET4hSmnGtL",
        "outputId": "174d45a8-b8c7-43af-c344-4e923aae041c"
      },
      "outputs": [
        {
          "output_type": "stream",
          "name": "stdout",
          "text": [
            "(229781, 21)\n",
            "(229781,)\n"
          ]
        }
      ],
      "source": [
        "print(X.shape)\n",
        "print(y.shape)"
      ]
    },
    {
      "cell_type": "code",
      "execution_count": null,
      "metadata": {
        "id": "EVaE7VAY9MHq"
      },
      "outputs": [],
      "source": [
        "scaler = StandardScaler()\n",
        "scaler.fit(X)\n",
        "X = scaler.transform(X)\n"
      ]
    },
    {
      "cell_type": "markdown",
      "metadata": {
        "id": "MN8tLSZ8hOqW"
      },
      "source": [
        "# Fixing the problem of imbalanced Data set:\n",
        "\n",
        "\n",
        "\n"
      ]
    },
    {
      "cell_type": "markdown",
      "metadata": {
        "id": "PaPy26B2omeo"
      },
      "source": [
        "### Second Method:\n",
        "\n",
        "Using SMOTETomek"
      ]
    },
    {
      "cell_type": "code",
      "execution_count": null,
      "metadata": {
        "id": "LQYv0vfLoqJk"
      },
      "outputs": [],
      "source": [
        "#from imblearn.combine import SMOTETomek\n",
        "#sm = SMOTETomek()\n",
        "#x_res_to, y_res_to = sm.fit_resample(X,y)\n",
        "#X_train_to , X_test_to , y_train_to , y_test_to = train_test_split(x_res_to,y_res_to,test_size = 0.3 , random_state = 75)\n",
        "#print(X_train.shape)\n",
        "#print(X_test.shape)"
      ]
    },
    {
      "cell_type": "markdown",
      "metadata": {
        "id": "32RTx7yKoqfJ"
      },
      "source": [
        "### Third Method:\n",
        "\n",
        "Using SMOTEENN to create a balanced version of the data set."
      ]
    },
    {
      "cell_type": "code",
      "execution_count": null,
      "metadata": {
        "id": "GRsdae-ThbIa",
        "colab": {
          "base_uri": "https://localhost:8080/"
        },
        "outputId": "bd0ab48b-554a-4252-da93-333cb71b15fd"
      },
      "outputs": [
        {
          "output_type": "stream",
          "name": "stdout",
          "text": [
            "(191541, 21)\n",
            "(82090, 21)\n"
          ]
        }
      ],
      "source": [
        "sm = SMOTEENN()\n",
        "x_resampled, y_resampled = sm.fit_resample(X,y)\n",
        "\n",
        "X_train , X_test , y_train , y_test = train_test_split(x_resampled,y_resampled,test_size = 0.3 , random_state = 75)\n",
        "print(X_train.shape)\n",
        "print(X_test.shape)"
      ]
    },
    {
      "cell_type": "markdown",
      "metadata": {
        "id": "Ybm3s6pioFlF"
      },
      "source": [
        "## Choosing the best base model using cross validation\n",
        "\n",
        "Trying different classification models and using cross validation to choose  the best among them."
      ]
    },
    {
      "cell_type": "code",
      "execution_count": null,
      "metadata": {
        "id": "aiAaCdthr-oS",
        "colab": {
          "base_uri": "https://localhost:8080/"
        },
        "outputId": "b0485d20-3c86-487d-8ee8-b39b51205ad4"
      },
      "outputs": [
        {
          "output_type": "stream",
          "name": "stdout",
          "text": [
            "Average Score for KNN = 92.61\n",
            "Average Score for DTrees = 90.27\n",
            "Average Score for Logistic Regreesion = 85.25%\n"
          ]
        }
      ],
      "source": [
        "# KNN Model\n",
        "clf = KNeighborsClassifier()\n",
        "scores = cross_val_score(clf, X_train, y_train, cv = 5)\n",
        "print('Average Score for KNN = {}'.format(np.round(scores.mean()*100,2)))\n",
        "\n",
        "# DTrees\n",
        "clf = tree.DecisionTreeClassifier()\n",
        "scores = cross_val_score(clf, X_train, y_train, cv=5)\n",
        "print('Average Score for DTrees = {}'.format(np.round(scores.mean()*100,2)))\n",
        "\n",
        "# Logistic regression \n",
        "clf = LogisticRegression()\n",
        "scores = cross_val_score(clf, X_train, y_train, scoring='accuracy', cv=5, n_jobs=-1)\n",
        "print('Average Score for Logistic Regreesion = {}%'.format(np.round(scores.mean()*100,2)))"
      ]
    },
    {
      "cell_type": "markdown",
      "metadata": {
        "id": "UtKWMptgswP5"
      },
      "source": [
        "## Model Evaluation:"
      ]
    },
    {
      "cell_type": "code",
      "execution_count": null,
      "metadata": {
        "id": "dV555baOtvES",
        "colab": {
          "base_uri": "https://localhost:8080/"
        },
        "outputId": "067a9f82-edc0-47c6-af3c-381c60770b54"
      },
      "outputs": [
        {
          "output_type": "stream",
          "name": "stdout",
          "text": [
            "Average Score for Random forsest = 94.38\n"
          ]
        }
      ],
      "source": [
        "# Random forsest\n",
        "RF = RandomForestClassifier()\n",
        "scores = cross_val_score(RF, X_train, y_train, cv = 5)\n",
        "print('Average Score for Random forsest = {}'.format(np.round(scores.mean()*100,2)))"
      ]
    },
    {
      "cell_type": "code",
      "execution_count": null,
      "metadata": {
        "id": "gvyHbh_0uE_-",
        "colab": {
          "base_uri": "https://localhost:8080/"
        },
        "outputId": "cb9846c3-763c-43c8-a671-e5262f2d91ad"
      },
      "outputs": [
        {
          "output_type": "stream",
          "name": "stdout",
          "text": [
            "              precision    recall  f1-score   support\n",
            "\n",
            "           0       0.94      0.93      0.94     34387\n",
            "           1       0.95      0.96      0.95     47703\n",
            "\n",
            "    accuracy                           0.95     82090\n",
            "   macro avg       0.95      0.94      0.94     82090\n",
            "weighted avg       0.95      0.95      0.95     82090\n",
            "\n"
          ]
        }
      ],
      "source": [
        "RF.fit(X_train, y_train)\n",
        "yRF_pred = RF.predict(X_test)\n",
        "\n",
        "print(classification_report(y_test,yRF_pred, labels=[0,1]))"
      ]
    },
    {
      "cell_type": "code",
      "execution_count": null,
      "metadata": {
        "id": "c0SOJBiwz7zA",
        "colab": {
          "base_uri": "https://localhost:8080/"
        },
        "outputId": "b556e864-bb2c-4a4f-9d2c-584fafcfd92b"
      },
      "outputs": [
        {
          "output_type": "stream",
          "name": "stdout",
          "text": [
            "              precision    recall  f1-score   support\n",
            "\n",
            "           0       0.97      0.88      0.92     34387\n",
            "           1       0.92      0.98      0.95     47703\n",
            "\n",
            "    accuracy                           0.94     82090\n",
            "   macro avg       0.94      0.93      0.94     82090\n",
            "weighted avg       0.94      0.94      0.94     82090\n",
            "\n"
          ]
        }
      ],
      "source": [
        "# KNN\n",
        "\n",
        "KNN_clf = KNeighborsClassifier()\n",
        "KNN_clf.fit(X_train, y_train)\n",
        "yKNN_pred = KNN_clf.predict(X_test)\n",
        "print(classification_report(y_test,yKNN_pred, labels=[0,1]))"
      ]
    },
    {
      "cell_type": "markdown",
      "source": [
        "Implmenting a bagging Model with KNN classifier as a base Model: "
      ],
      "metadata": {
        "id": "LTtZ4P2siC3E"
      }
    },
    {
      "cell_type": "code",
      "source": [
        "from sklearn.svm import SVC\n",
        "from sklearn.ensemble import BaggingClassifier\n",
        "from sklearn.datasets import make_classification\n",
        "\n",
        "clf = BaggingClassifier(base_estimator = KNeighborsClassifier() ,n_estimators = 10 , random_state = 0)\n"
      ],
      "metadata": {
        "id": "p5SZsFY3iBxU"
      },
      "execution_count": null,
      "outputs": []
    },
    {
      "cell_type": "code",
      "source": [
        "clf.fit(X_train, y_train)\n",
        "yrf_pred = clf.predict(X_test)\n",
        "yrf_pred\n",
        "print(classification_report(y_test,yrf_pred, labels=[0,1]))"
      ],
      "metadata": {
        "id": "O7hHyJpsiH8i",
        "colab": {
          "base_uri": "https://localhost:8080/"
        },
        "outputId": "afb12909-50e1-45ba-aa3f-52da74414ead"
      },
      "execution_count": null,
      "outputs": [
        {
          "output_type": "stream",
          "name": "stdout",
          "text": [
            "              precision    recall  f1-score   support\n",
            "\n",
            "           0       0.97      0.88      0.93     34387\n",
            "           1       0.92      0.98      0.95     47703\n",
            "\n",
            "    accuracy                           0.94     82090\n",
            "   macro avg       0.95      0.93      0.94     82090\n",
            "weighted avg       0.94      0.94      0.94     82090\n",
            "\n"
          ]
        }
      ]
    },
    {
      "cell_type": "markdown",
      "source": [
        "##Hyper parameter tuning\n",
        "We will start by tunning the hyperparamters for random forest, as it is the best model for accuracy and recall, manually and then we will use Randmizedsearch to find the best combination of Parametrs."
      ],
      "metadata": {
        "id": "kp5MJLtcgnCI"
      }
    },
    {
      "cell_type": "code",
      "source": [
        "# Random forsest\n",
        "## best parameters \n",
        "RF = RandomForestClassifier(n_estimators=100,max_depth=25)\n",
        "scores = cross_val_score(RF, X_train, y_train, cv = 5)\n",
        "print('Average Score for Random forsest = {}'.format(np.round(scores.mean()*100,2)))"
      ],
      "metadata": {
        "id": "vqFkK1kfpXEN",
        "colab": {
          "base_uri": "https://localhost:8080/"
        },
        "outputId": "cabe37b4-b538-492a-c681-1b790729f63d"
      },
      "execution_count": null,
      "outputs": [
        {
          "output_type": "stream",
          "name": "stdout",
          "text": [
            "Average Score for Random forsest = 94.17\n"
          ]
        }
      ]
    },
    {
      "cell_type": "code",
      "execution_count": null,
      "metadata": {
        "id": "iIdCo07r0ydQ",
        "colab": {
          "base_uri": "https://localhost:8080/"
        },
        "outputId": "346bfc2b-8e89-4a9e-963d-588247a0d763"
      },
      "outputs": [
        {
          "output_type": "stream",
          "name": "stdout",
          "text": [
            "0.945839271342224\n",
            "{'n_estimators': 300, 'max_features': 'sqrt', 'max_depth': None}\n"
          ]
        }
      ],
      "source": [
        "parameters = {\n",
        "    \"n_estimators\":[50,100,250,300],\n",
        "     \"max_depth\":[20,21,22,23,24,25,None],    ## as the best max_depth was 25 \n",
        "    \"max_features\": ['auto', 'sqrt']}\n",
        "\n",
        "RF_model = RandomForestClassifier()\n",
        "\n",
        "RF_model = RandomizedSearchCV(RF_model, parameters , n_iter = 5, cv = 10 , scoring='accuracy')\n",
        "RF_model.fit(X_train, y_train)\n",
        "print(RF_model.best_score_)\n",
        "print(RF_model.best_params_)"
      ]
    },
    {
      "cell_type": "code",
      "execution_count": null,
      "metadata": {
        "id": "RGcVPwtU62DO",
        "colab": {
          "base_uri": "https://localhost:8080/"
        },
        "outputId": "05b7a914-4314-4b7f-b693-80dec037b282"
      },
      "outputs": [
        {
          "output_type": "stream",
          "name": "stdout",
          "text": [
            "              precision    recall  f1-score   support\n",
            "\n",
            "           0       0.94      0.92      0.93     34387\n",
            "           1       0.95      0.96      0.95     47703\n",
            "\n",
            "    accuracy                           0.94     82090\n",
            "   macro avg       0.94      0.94      0.94     82090\n",
            "weighted avg       0.94      0.94      0.94     82090\n",
            "\n"
          ]
        }
      ],
      "source": [
        "# Diabetes Risk Prediction:\n",
        "we dealt with the original data set ( https://www.kaggle.com/cdc/behavioral-risk-factor-surveillance-system?select=2015.csv ) that was containing 330 features, and we chose 22 risk factors related to diabetes according to notebook (https://www.kaggle.com/alexteboul/diabetes-health-indicators-dataset-notebook)RF_best = RF_model.best_estimator_\n",
        "RF_best.fit(X_train, y_train)\n",
        "YRF_best_pred = RF_best.predict(X_test)\n",
        "\n",
        "print(classification_report(y_test , YRF_best_pred, labels = [0,1]))\n"
      ]
    },
    {
      "cell_type": "markdown",
      "metadata": {
        "id": "xIBsj46dJX4N"
      },
      "source": [
        "# ROC AUC Curves and scores\n",
        "\n",
        "The top left corner of the plot is the “ideal” point - a false positive rate of zero, and a true positive rate of one. It does mean that a larger area under the curve (AUC) is usually better.\n",
        "\n"
      ]
    },
    {
      "cell_type": "code",
      "execution_count": null,
      "metadata": {
        "id": "DBgl93WmUnEH"
      },
      "outputs": [],
      "source": [
        "def plot_roc_curve(false_positive_rate, true_positive_rate):\n",
        "    \"\"\" Function to plot the ROC curve\n",
        "    \"\"\"\n",
        "    plt.plot(false_positive_rate, true_positive_rate, linewidth=2)\n",
        "    plt.axis([0, 1, 0, 1])\n",
        "    plt.xlabel('False Positive Rate (FPR)', fontsize=16)\n",
        "    plt.ylabel('True Positive Rate (TPR)', fontsize=16)"
      ]
    },
    {
      "cell_type": "code",
      "execution_count": null,
      "metadata": {
        "id": "bTBGogsma_pt"
      },
      "outputs": [],
      "source": [
        "# compute true positive rate and false positive rate\n",
        "# KNN_clf\n",
        "fp1, tp1, thresholds = roc_curve(y_test, KNN_clf.predict_proba(X_test)[:,1])\n",
        "# RF_best \n",
        "fp2, tp2, thresholds = roc_curve(y_test, RF_best.predict_proba(X_test)[:,1])\n",
        "# clf -----> bagging model \n",
        "fp3, tp3, thresholds = roc_curve(y_test, clf.predict_proba(X_test)[:,1])\n"
      ]
    },
    {
      "cell_type": "code",
      "execution_count": null,
      "metadata": {
        "id": "ebZU-fjpxB5v",
        "colab": {
          "base_uri": "https://localhost:8080/",
          "height": 468
        },
        "outputId": "5f2b4889-5717-4fb9-f58d-3af397e56c11"
      },
      "outputs": [
        {
          "output_type": "execute_result",
          "data": {
            "text/plain": [
              "<matplotlib.legend.Legend at 0x7fea12e06a10>"
            ]
          },
          "metadata": {},
          "execution_count": 40
        },
        {
          "output_type": "display_data",
          "data": {
            "image/png": "[encoded data removed]",
            "text/plain": [
              "<Figure size 1008x504 with 1 Axes>"
            ]
          },
          "metadata": {
            "needs_background": "light"
          }
        }
      ],
      "source": [
        "plt.figure(figsize=(14, 7))\n",
        "\n",
        "#plot_roc_curve(fp1, tp1)\n",
        "plot_roc_curve(fp2, tp2)\n",
        "#plot_roc_curve(fp3, tp3)\n",
        "\n",
        "plt.plot([0, 1], [0, 1], 'r', linewidth = 2)\n",
        "\n",
        "plt.legend(['RandomForest classifier','Random classifier'])"
      ]
    },
    {
      "cell_type": "code",
      "execution_count": null,
      "metadata": {
        "id": "S0gV3KtJdqfR",
        "colab": {
          "base_uri": "https://localhost:8080/"
        },
        "outputId": "7287ef4b-023b-49f1-b973-81191936ef50"
      },
      "outputs": [
        {
          "output_type": "stream",
          "name": "stdout",
          "text": [
            "AUC score for RandomForest classifier is  0.9871535902624181\n"
          ]
        }
      ],
      "source": [
        "#auc1 = roc_auc_score(y_test, KNN_clf.predict_proba(X_test)[:,1])\n",
        "auc2 = roc_auc_score(y_test, RF_best.predict_proba(X_test)[:,1])\n",
        "#auc3 = roc_auc_score(y_test, clf.predict_proba(X_test)[:,1])\n",
        "\n",
        "#print(\"AUC score for KNN is \", auc1, \"for Random classifier is \", auc2, \"and for Bagging with KNN\", auc3 )\n",
        "print(\"AUC score for RandomForest classifier is \", auc2)"
      ]
    },
    {
      "cell_type": "markdown",
      "source": [
        "# Feature selection:\n",
        "\n",
        "Removing the features that has correlation less than abs(0.09) with the target and using the rest as input for the Random forest Classifier."
      ],
      "metadata": {
        "id": "97rIMA1s5Rp0"
      }
    },
    {
      "cell_type": "code",
      "source": [
        "columns = ['HighBP' ,'HighChol','BMI','Stroke' ,'HeartDiseaseorAttack','PhysActivity','GenHlth','PhysHlth','DiffWalk','Age','Education','Income' ]\n",
        "\n",
        "X_min = db[columns] \n",
        "y_min = db['Diabetes']"
      ],
      "metadata": {
        "id": "_6e1LZi35Sip"
      },
      "execution_count": null,
      "outputs": []
    },
    {
      "cell_type": "code",
      "source": [
        "scaler = StandardScaler()\n",
        "scaler.fit(X_min)\n",
        "X_min = scaler.transform(X_min)"
      ],
      "metadata": {
        "id": "lRie_dbI6RZy"
      },
      "execution_count": null,
      "outputs": []
    },
    {
      "cell_type": "code",
      "source": [
        "sm = SMOTEENN()\n",
        "x_min, y_min = sm.fit_resample(X_min,y_min)\n",
        "\n",
        "Xmin_train , Xmin_test , ymin_train , ymin_test = train_test_split(x_min,y_min,test_size = 0.3 , random_state = 75)\n",
        "print(Xmin_train.shape)\n",
        "print(Xmin_test.shape)"
      ],
      "metadata": {
        "id": "-wvT8Nku7t18",
        "colab": {
          "base_uri": "https://localhost:8080/"
        },
        "outputId": "48a1199d-3a5a-4221-e191-2a2e832eca62"
      },
      "execution_count": null,
      "outputs": [
        {
          "output_type": "stream",
          "name": "stdout",
          "text": [
            "(178341, 12)\n",
            "(76432, 12)\n"
          ]
        }
      ]
    },
    {
      "cell_type": "code",
      "source": [
        "# KNN Model\n",
        "clf = KNeighborsClassifier()\n",
        "scores = cross_val_score(clf, Xmin_train, ymin_train , cv = 5)\n",
        "print('Average Score for KNN = {}'.format(np.round(scores.mean()*100,2)))\n",
        "\n",
        "# DTrees\n",
        "clf = tree.DecisionTreeClassifier()\n",
        "scores = cross_val_score(clf, Xmin_train, ymin_train, cv=5)\n",
        "print('Average Score for DTrees = {}'.format(np.round(scores.mean()*100,2)))\n",
        "\n",
        "# Logistic regression \n",
        "clf = LogisticRegression()\n",
        "scores = cross_val_score(clf, Xmin_train, ymin_train, scoring='accuracy', cv=5, n_jobs=-1)\n",
        "print('Average Score for Logistic Regreesion = {}%'.format(np.round(scores.mean()*100,2)))"
      ],
      "metadata": {
        "id": "XK_AbGX08LTt",
        "colab": {
          "base_uri": "https://localhost:8080/"
        },
        "outputId": "30235ef2-5313-416c-d654-5feea1c11de0"
      },
      "execution_count": null,
      "outputs": [
        {
          "output_type": "stream",
          "name": "stdout",
          "text": [
            "Average Score for KNN = 92.87\n",
            "Average Score for DTrees = 92.74\n",
            "Average Score for Logistic Regreesion = 85.85%\n"
          ]
        }
      ]
    },
    {
      "cell_type": "code",
      "source": [
        "# Random forsest\n",
        "RF_min = RandomForestClassifier()\n",
        "scores = cross_val_score(RF_min, Xmin_train, ymin_train, cv = 5)\n",
        "print('Average Score for Random forsest = {}'.format(np.round(scores.mean()*100,2)))"
      ],
      "metadata": {
        "id": "8zeRTvB-LocD",
        "colab": {
          "base_uri": "https://localhost:8080/"
        },
        "outputId": "15a7d0f5-bbe6-48b2-c3c8-36060276dffc"
      },
      "execution_count": null,
      "outputs": [
        {
          "output_type": "stream",
          "name": "stdout",
          "text": [
            "Average Score for Random forsest = 95.75\n"
          ]
        }
      ]
    },
    {
      "cell_type": "code",
      "source": [
        "RF_min.fit(Xmin_train, ymin_train)\n",
        "yminRF_pred = RF_min.predict(Xmin_test)\n",
        "\n",
        "print(classification_report(ymin_test,yminRF_pred, labels=[0,1]))"
      ],
      "metadata": {
        "id": "71r4FW1tL3YR",
        "colab": {
          "base_uri": "https://localhost:8080/"
        },
        "outputId": "a4e51374-b469-4741-a38b-6c6bce2cf1d5"
      },
      "execution_count": null,
      "outputs": [
        {
          "output_type": "stream",
          "name": "stdout",
          "text": [
            "              precision    recall  f1-score   support\n",
            "\n",
            "           0       0.96      0.95      0.96     35861\n",
            "           1       0.96      0.97      0.96     40571\n",
            "\n",
            "    accuracy                           0.96     76432\n",
            "   macro avg       0.96      0.96      0.96     76432\n",
            "weighted avg       0.96      0.96      0.96     76432\n",
            "\n"
          ]
        }
      ]
    },
    {
      "cell_type": "markdown",
      "source": [
        "Comment: AS it can be seen, removing the weakly correlated features did actualy improve the accuracy of the Model. "
      ],
      "metadata": {
        "id": "01qdZPYjbH0y"
      }
    },
    {
      "cell_type": "markdown",
      "source": [
        "# Dropinng more features:\n",
        "In this iteration, we will choose the most important 10 features for the training of the model."
      ],
      "metadata": {
        "id": "i65uf48JToP2"
      }
    },
    {
      "cell_type": "code",
      "source": [
        "columns = ['HighBP' ,'HighChol','BMI','HeartDiseaseorAttack','GenHlth','PhysHlth','DiffWalk','Age','Education','Income' ]\n",
        "\n",
        "X_min2 = db[columns] \n",
        "y_min2 = db['Diabetes']"
      ],
      "metadata": {
        "id": "AtE6r-nSTvvt"
      },
      "execution_count": null,
      "outputs": []
    },
    {
      "cell_type": "code",
      "source": [
        "scaler = StandardScaler()\n",
        "scaler.fit(X_min2)\n",
        "X_min2 = scaler.transform(X_min2)"
      ],
      "metadata": {
        "id": "uDcwjkaBTwVf"
      },
      "execution_count": null,
      "outputs": []
    },
    {
      "cell_type": "code",
      "source": [
        "sm = SMOTEENN()\n",
        "x_min2, y_min2 = sm.fit_resample(X_min2,y_min2)\n",
        "\n",
        "Xmin2_train , Xmin2_test , ymin2_train , ymin2_test = train_test_split(x_min2,y_min2,test_size = 0.3 , random_state = 75)\n",
        "print(Xmin2_train.shape)\n",
        "print(Xmin2_test.shape)"
      ],
      "metadata": {
        "colab": {
          "base_uri": "https://localhost:8080/"
        },
        "id": "INoQqTbITwKy",
        "outputId": "8bd5e392-2f41-4fb5-9300-0c728e268f62"
      },
      "execution_count": null,
      "outputs": [
        {
          "output_type": "stream",
          "name": "stdout",
          "text": [
            "(175074, 10)\n",
            "(75032, 10)\n"
          ]
        }
      ]
    },
    {
      "cell_type": "code",
      "source": [
        "# KNN Model\n",
        "clf = KNeighborsClassifier()\n",
        "scores = cross_val_score(clf, Xmin2_train, ymin2_train , cv = 5)\n",
        "print('Average Score for KNN = {}'.format(np.round(scores.mean()*100,2)))\n",
        "\n",
        "# DTrees\n",
        "clf = tree.DecisionTreeClassifier()\n",
        "scores = cross_val_score(clf, Xmin2_train, ymin2_train, cv=5)\n",
        "print('Average Score for DTrees = {}'.format(np.round(scores.mean()*100,2)))\n",
        "\n",
        "# Logistic regression \n",
        "clf = LogisticRegression()\n",
        "scores = cross_val_score(clf, Xmin2_train, ymin2_train, scoring='accuracy', cv=5, n_jobs=-1)\n",
        "print('Average Score for Logistic Regreesion = {}%'.format(np.round(scores.mean()*100,2)))"
      ],
      "metadata": {
        "colab": {
          "base_uri": "https://localhost:8080/"
        },
        "id": "-GOne-BZTv_p",
        "outputId": "d93549a9-e593-4ebc-d455-cd6595be983f"
      },
      "execution_count": null,
      "outputs": [
        {
          "output_type": "stream",
          "name": "stdout",
          "text": [
            "Average Score for KNN = 92.92\n",
            "Average Score for DTrees = 93.44\n",
            "Average Score for Logistic Regreesion = 85.68%\n"
          ]
        }
      ]
    },
    {
      "cell_type": "code",
      "source": [
        "# Random forsest\n",
        "RF_min2 = RandomForestClassifier()\n",
        "scores = cross_val_score(RF_min2, Xmin2_train, ymin2_train, cv = 5)\n",
        "print('Average Score for Random forsest = {}'.format(np.round(scores.mean()*100,2)))"
      ],
      "metadata": {
        "colab": {
          "base_uri": "https://localhost:8080/"
        },
        "id": "NHfBz0QAUKX_",
        "outputId": "ac73a6a4-43ce-4fcc-ad5e-28f073a0e3ac"
      },
      "execution_count": null,
      "outputs": [
        {
          "output_type": "stream",
          "name": "stdout",
          "text": [
            "Average Score for Random forsest = 95.97\n"
          ]
        }
      ]
    },
    {
      "cell_type": "code",
      "source": [
        "RF_min2.fit(Xmin2_train, ymin2_train)\n",
        "ymin2RF_pred = RF_min2.predict(Xmin2_test)\n",
        "\n",
        "print(classification_report(ymin2_test,ymin2RF_pred, labels=[0,1]))"
      ],
      "metadata": {
        "colab": {
          "base_uri": "https://localhost:8080/"
        },
        "id": "fw4e3Ii5UX8L",
        "outputId": "b42f7a97-f6c8-4473-f073-dd95e70879b7"
      },
      "execution_count": null,
      "outputs": [
        {
          "output_type": "stream",
          "name": "stdout",
          "text": [
            "              precision    recall  f1-score   support\n",
            "\n",
            "           0       0.97      0.96      0.96     36400\n",
            "           1       0.96      0.97      0.97     38632\n",
            "\n",
            "    accuracy                           0.97     75032\n",
            "   macro avg       0.97      0.97      0.97     75032\n",
            "weighted avg       0.97      0.97      0.97     75032\n",
            "\n"
          ]
        }
      ]
    }
  ],
  "metadata": {
    "colab": {
      "provenance": []
    },
    "kernelspec": {
      "display_name": "Python 3",
      "name": "python3"
    },
    "language_info": {
      "name": "python"
    }
  },
  "nbformat": 4,
  "nbformat_minor": 0
}